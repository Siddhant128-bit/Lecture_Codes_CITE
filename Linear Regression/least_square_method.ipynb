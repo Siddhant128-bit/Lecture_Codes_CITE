{
 "cells": [
  {
   "cell_type": "markdown",
   "metadata": {},
   "source": [
    "<h3 align='center'> Linear Regression with Least Square Method </h3>"
   ]
  },
  {
   "cell_type": "markdown",
   "metadata": {},
   "source": [
    "<h3> Installing Depedencies </h3>\n",
    "<p> Here we will install various dependencies </p>"
   ]
  },
  {
   "cell_type": "code",
   "execution_count": null,
   "metadata": {},
   "outputs": [],
   "source": [
    "!pip install numpy \n",
    "!pip install pandas \n",
    "!pip install matplotlib\n",
    "!pip install notebook"
   ]
  },
  {
   "cell_type": "markdown",
   "metadata": {},
   "source": [
    "<h3> Importing Depdencies </h3>"
   ]
  },
  {
   "cell_type": "code",
   "execution_count": 1,
   "metadata": {},
   "outputs": [],
   "source": [
    "import numpy as np \n",
    "import pandas as pd\n",
    "import matplotlib.pyplot as plt"
   ]
  },
  {
   "cell_type": "markdown",
   "metadata": {},
   "source": [
    "<h3> Getting Data </h3>"
   ]
  },
  {
   "cell_type": "code",
   "execution_count": null,
   "metadata": {},
   "outputs": [
    {
     "name": "stdout",
     "output_type": "stream",
     "text": [
      "[1, 2, 3, 4, 5]\n"
     ]
    }
   ],
   "source": [
    "num_of_data=int(input(\"Enter the number of years: \"))\n",
    "X=[]\n",
    "Y=[]\n",
    "for i in range(num_of_data):\n",
    "    #print(i+1)\n",
    "    X.append(i+1)\n",
    "    Y.append(float(input('Enter Stock Price value at '+str(i+1)+' year: ')))\n"
   ]
  },
  {
   "cell_type": "markdown",
   "metadata": {},
   "source": [
    "<h3> Getting Data from CSV </h3>"
   ]
  },
  {
   "cell_type": "code",
   "execution_count": 14,
   "metadata": {},
   "outputs": [
    {
     "data": {
      "text/plain": [
       "(8.0, 18.333333333333332)"
      ]
     },
     "execution_count": 14,
     "metadata": {},
     "output_type": "execute_result"
    }
   ],
   "source": [
    "df=pd.read_csv('data.csv')\n",
    "X=df['Year'].to_list()\n",
    "Y=df['Price'].to_list()\n",
    "\n",
    "n=len(X)\n",
    "X_mean=float(df['Year'].sum()/n)\n",
    "y_mean=float(df['Price'].sum()/n)\n"
   ]
  },
  {
   "cell_type": "markdown",
   "metadata": {},
   "source": [
    "<h3> Visualizing data </h3>"
   ]
  },
  {
   "cell_type": "code",
   "execution_count": 31,
   "metadata": {},
   "outputs": [
    {
     "data": {
      "text/plain": [
       "<matplotlib.collections.PathCollection at 0x18a3a1b4510>"
      ]
     },
     "execution_count": 31,
     "metadata": {},
     "output_type": "execute_result"
    },
    {
     "data": {
      "image/png": "[encoded data removed]",
      "text/plain": [
       "<Figure size 640x480 with 1 Axes>"
      ]
     },
     "metadata": {},
     "output_type": "display_data"
    }
   ],
   "source": [
    "plt.scatter(X,Y)\n",
    "plt.plot(X,y_pred)\n",
    "plt.scatter(100,y_100)"
   ]
  },
  {
   "cell_type": "markdown",
   "metadata": {},
   "source": [
    "<h3> Calculating m and c </h3>"
   ]
  },
  {
   "cell_type": "code",
   "execution_count": 27,
   "metadata": {},
   "outputs": [
    {
     "name": "stdout",
     "output_type": "stream",
     "text": [
      "1.767857142857143 4.190476190476188\n"
     ]
    },
    {
     "data": {
      "text/plain": [
       "[5.958333333333331,\n",
       " 7.7261904761904745,\n",
       " 9.494047619047617,\n",
       " 11.26190476190476,\n",
       " 13.029761904761903,\n",
       " 14.797619047619046,\n",
       " 16.56547619047619,\n",
       " 18.333333333333332,\n",
       " 20.101190476190474,\n",
       " 21.86904761904762,\n",
       " 23.63690476190476,\n",
       " 25.404761904761905,\n",
       " 27.172619047619044,\n",
       " 28.94047619047619,\n",
       " 30.708333333333336]"
      ]
     },
     "execution_count": 27,
     "metadata": {},
     "output_type": "execute_result"
    }
   ],
   "source": [
    "num=0\n",
    "den=0\n",
    "\n",
    "for xi,yi in zip(X,Y):\n",
    "    #print(xi,yi)\n",
    "    num=num+(xi-X_mean)*(yi-y_mean)\n",
    "    den=den+(xi-X_mean)**2\n",
    "\n",
    "m=num/den\n",
    "c=y_mean-m*X_mean\n",
    "print(m,c)\n",
    "\n",
    "y_pred=[m*i+c for i in X]\n"
   ]
  },
  {
   "cell_type": "code",
   "execution_count": 30,
   "metadata": {},
   "outputs": [
    {
     "data": {
      "text/plain": [
       "180.97619047619048"
      ]
     },
     "execution_count": 30,
     "metadata": {},
     "output_type": "execute_result"
    }
   ],
   "source": [
    "y_100=m*100+c\n",
    "y_100"
   ]
  }
 ],
 "metadata": {
  "kernelspec": {
   "display_name": "lecture_env",
   "language": "python",
   "name": "python3"
  },
  "language_info": {
   "codemirror_mode": {
    "name": "ipython",
    "version": 3
   },
   "file_extension": ".py",
   "mimetype": "text/x-python",
   "name": "python",
   "nbconvert_exporter": "python",
   "pygments_lexer": "ipython3",
   "version": "3.11.4"
  },
  "orig_nbformat": 4
 },
 "nbformat": 4,
 "nbformat_minor": 2
}
